{
 "cells": [
  {
   "cell_type": "code",
   "execution_count": 11,
   "id": "f1ee88e3-e259-4875-9d74-0126577300b9",
   "metadata": {},
   "outputs": [],
   "source": [
    "import scipy.io as spio\n",
    "from pprint import pprint as pprint\n",
    "import matplotlib\n",
    "matplotlib.use('Agg')\n",
    "import matplotlib.pyplot as plt\n",
    "import pandas as pd\n",
    "from collections import defaultdict\n",
    "from tqdm import tqdm\n",
    "from sklearn.preprocessing import minmax_scale"
   ]
  },
  {
   "cell_type": "markdown",
   "id": "2091a44c-4fa4-4a44-803a-ceb0813cc7ee",
   "metadata": {},
   "source": [
    "## Testing Dataloader"
   ]
  },
  {
   "cell_type": "code",
   "execution_count": 12,
   "id": "fa9de9a0-628a-4bf2-8b84-6f9a7731c6b5",
   "metadata": {},
   "outputs": [],
   "source": [
    "def chunks(arr, size):\n",
    "    ans = []\n",
    "    i = 0\n",
    "    while i<len(arr):\n",
    "        ans.append(arr[i:i+size])\n",
    "        i+= size\n",
    "    return ans"
   ]
  },
  {
   "cell_type": "code",
   "execution_count": 13,
   "id": "70f550f8-7c81-44a2-952d-e1eb8377e042",
   "metadata": {},
   "outputs": [],
   "source": [
    "def extract_label(data):\n",
    "    return list(data.iloc[0,0])"
   ]
  },
  {
   "cell_type": "code",
   "execution_count": 14,
   "id": "17495ef1-00fe-40a7-9250-fb2c3426e83f",
   "metadata": {},
   "outputs": [],
   "source": [
    "def extract_val(data):\n",
    "    arr = []\n",
    "    for index, row in data.iterrows():\n",
    "        tmp = []\n",
    "        for c in data:\n",
    "            tmp.append(row[c])\n",
    "        arr+=tmp\n",
    "    return chunks(arr,280)"
   ]
  },
  {
   "cell_type": "code",
   "execution_count": 15,
   "id": "df16a302",
   "metadata": {},
   "outputs": [],
   "source": [
    "\n",
    "def norm(li):\n",
    "    sc = minmax_scale(li)\n",
    "    res = 2*sc - 1\n",
    "    return res\n",
    "    \n",
    "    "
   ]
  },
  {
   "cell_type": "code",
   "execution_count": null,
   "id": "e6804e2c-6a51-4f89-9cba-265d0e59fd1d",
   "metadata": {},
   "outputs": [],
   "source": [
    "dir = \"pydata/\"\n",
    "def dataloader():\n",
    "    final = defaultdict(list)\n",
    "    for a in tqdm(range(1,49)):\n",
    "        val = pd.read_csv(dir+str(a)+\"val.csv\",header=None)\n",
    "        lab = pd.read_csv(dir+str(a)+\"lab.csv\",header=None)\n",
    "        features = extract_val(val)\n",
    "        labels = extract_label(lab)\n",
    "        for i in range(len(features)):\n",
    "            final['beat'].append(features[i])\n",
    "            final['label'].append(labels[i])\n",
    "    df = pd.DataFrame(final)\n",
    "    return df\n",
    "\n",
    "# # normalized data \n",
    "# dir = \"pydata/\"\n",
    "# def dataloader():\n",
    "#     final = defaultdict(list)\n",
    "#     for a in tqdm(range(1,49)):\n",
    "#         val = pd.read_csv(dir+str(a)+\"val.csv\",header=None)\n",
    "#         lab = pd.read_csv(dir+str(a)+\"lab.csv\",header=None)\n",
    "#         features = extract_val(val)\n",
    "#         labels = extract_label(lab)\n",
    "#         for i in range(len(features)):\n",
    "#             features[i] = norm(features[i])\n",
    "#             final['beat'].append(features[i])\n",
    "#             final['label'].append(labels[i])\n",
    "#     df = pd.DataFrame(final)\n",
    "#     return df"
   ]
  },
  {
   "cell_type": "code",
   "execution_count": 17,
   "id": "b423c90a-1ce4-40f0-b047-a5793390e478",
   "metadata": {},
   "outputs": [
    {
     "name": "stderr",
     "output_type": "stream",
     "text": [
      "100%|██████████| 48/48 [01:22<00:00,  1.71s/it]\n"
     ]
    }
   ],
   "source": [
    "df = dataloader()"
   ]
  },
  {
   "cell_type": "code",
   "execution_count": 7,
   "id": "8dacb277",
   "metadata": {},
   "outputs": [
    {
     "data": {
      "text/html": [
       "<div>\n",
       "<style scoped>\n",
       "    .dataframe tbody tr th:only-of-type {\n",
       "        vertical-align: middle;\n",
       "    }\n",
       "\n",
       "    .dataframe tbody tr th {\n",
       "        vertical-align: top;\n",
       "    }\n",
       "\n",
       "    .dataframe thead th {\n",
       "        text-align: right;\n",
       "    }\n",
       "</style>\n",
       "<table border=\"1\" class=\"dataframe\">\n",
       "  <thead>\n",
       "    <tr style=\"text-align: right;\">\n",
       "      <th></th>\n",
       "      <th>beat</th>\n",
       "      <th>label</th>\n",
       "    </tr>\n",
       "  </thead>\n",
       "  <tbody>\n",
       "    <tr>\n",
       "      <th>0</th>\n",
       "      <td>[0.26918147423779093, 0.26918147423779093, 0.2...</td>\n",
       "      <td>N</td>\n",
       "    </tr>\n",
       "    <tr>\n",
       "      <th>1</th>\n",
       "      <td>[0.1832203990331749, 0.17341715331922836, 0.17...</td>\n",
       "      <td>N</td>\n",
       "    </tr>\n",
       "    <tr>\n",
       "      <th>2</th>\n",
       "      <td>[0.23476444861550208, 0.22555280246244272, 0.2...</td>\n",
       "      <td>N</td>\n",
       "    </tr>\n",
       "    <tr>\n",
       "      <th>3</th>\n",
       "      <td>[0.21500271293652734, 0.20705316591109002, 0.1...</td>\n",
       "      <td>N</td>\n",
       "    </tr>\n",
       "    <tr>\n",
       "      <th>4</th>\n",
       "      <td>[0.18506953391131553, 0.17806481358403536, 0.1...</td>\n",
       "      <td>N</td>\n",
       "    </tr>\n",
       "    <tr>\n",
       "      <th>...</th>\n",
       "      <td>...</td>\n",
       "      <td>...</td>\n",
       "    </tr>\n",
       "    <tr>\n",
       "      <th>109333</th>\n",
       "      <td>[0.10422690834508638, 0.10398852029973932, 0.0...</td>\n",
       "      <td>N</td>\n",
       "    </tr>\n",
       "    <tr>\n",
       "      <th>109334</th>\n",
       "      <td>[0.08373762670004198, 0.08388980658338184, 0.0...</td>\n",
       "      <td>N</td>\n",
       "    </tr>\n",
       "    <tr>\n",
       "      <th>109335</th>\n",
       "      <td>[0.12227589826942192, 0.12279408106153962, 0.1...</td>\n",
       "      <td>N</td>\n",
       "    </tr>\n",
       "    <tr>\n",
       "      <th>109336</th>\n",
       "      <td>[0.116529510787731, 0.1106296085097527, 0.0997...</td>\n",
       "      <td>N</td>\n",
       "    </tr>\n",
       "    <tr>\n",
       "      <th>109337</th>\n",
       "      <td>[0.07700322598914366, 0.06598676144251532, 0.0...</td>\n",
       "      <td>N</td>\n",
       "    </tr>\n",
       "  </tbody>\n",
       "</table>\n",
       "<p>109338 rows × 2 columns</p>\n",
       "</div>"
      ],
      "text/plain": [
       "                                                     beat label\n",
       "0       [0.26918147423779093, 0.26918147423779093, 0.2...     N\n",
       "1       [0.1832203990331749, 0.17341715331922836, 0.17...     N\n",
       "2       [0.23476444861550208, 0.22555280246244272, 0.2...     N\n",
       "3       [0.21500271293652734, 0.20705316591109002, 0.1...     N\n",
       "4       [0.18506953391131553, 0.17806481358403536, 0.1...     N\n",
       "...                                                   ...   ...\n",
       "109333  [0.10422690834508638, 0.10398852029973932, 0.0...     N\n",
       "109334  [0.08373762670004198, 0.08388980658338184, 0.0...     N\n",
       "109335  [0.12227589826942192, 0.12279408106153962, 0.1...     N\n",
       "109336  [0.116529510787731, 0.1106296085097527, 0.0997...     N\n",
       "109337  [0.07700322598914366, 0.06598676144251532, 0.0...     N\n",
       "\n",
       "[109338 rows x 2 columns]"
      ]
     },
     "execution_count": 7,
     "metadata": {},
     "output_type": "execute_result"
    }
   ],
   "source": [
    "df"
   ]
  },
  {
   "cell_type": "code",
   "execution_count": 7,
   "id": "ea8e4fdd-69b0-4747-92d1-677043568b0a",
   "metadata": {},
   "outputs": [
    {
     "data": {
      "text/html": [
       "<div>\n",
       "<style scoped>\n",
       "    .dataframe tbody tr th:only-of-type {\n",
       "        vertical-align: middle;\n",
       "    }\n",
       "\n",
       "    .dataframe tbody tr th {\n",
       "        vertical-align: top;\n",
       "    }\n",
       "\n",
       "    .dataframe thead th {\n",
       "        text-align: right;\n",
       "    }\n",
       "</style>\n",
       "<table border=\"1\" class=\"dataframe\">\n",
       "  <thead>\n",
       "    <tr style=\"text-align: right;\">\n",
       "      <th></th>\n",
       "      <th>beat</th>\n",
       "      <th>label</th>\n",
       "    </tr>\n",
       "  </thead>\n",
       "  <tbody>\n",
       "    <tr>\n",
       "      <th>0</th>\n",
       "      <td>[0.834882169297958, 0.834882169297958, 0.83488...</td>\n",
       "      <td>N</td>\n",
       "    </tr>\n",
       "    <tr>\n",
       "      <th>1</th>\n",
       "      <td>[0.0839561792550694, 0.0063667072117798, -0.01...</td>\n",
       "      <td>N</td>\n",
       "    </tr>\n",
       "    <tr>\n",
       "      <th>2</th>\n",
       "      <td>[0.0596260986687957, -0.0117930401591989, -0.0...</td>\n",
       "      <td>N</td>\n",
       "    </tr>\n",
       "    <tr>\n",
       "      <th>3</th>\n",
       "      <td>[0.185550705508234, 0.129036836193696, 0.07666...</td>\n",
       "      <td>N</td>\n",
       "    </tr>\n",
       "    <tr>\n",
       "      <th>4</th>\n",
       "      <td>[0.135853149148317, 0.0840519827417409, 0.0577...</td>\n",
       "      <td>N</td>\n",
       "    </tr>\n",
       "    <tr>\n",
       "      <th>...</th>\n",
       "      <td>...</td>\n",
       "      <td>...</td>\n",
       "    </tr>\n",
       "    <tr>\n",
       "      <th>109333</th>\n",
       "      <td>[-0.175323057865841, -0.176776468285615, -0.20...</td>\n",
       "      <td>N</td>\n",
       "    </tr>\n",
       "    <tr>\n",
       "      <th>109334</th>\n",
       "      <td>[-0.0865255525923312, -0.0855770093196608, -0....</td>\n",
       "      <td>N</td>\n",
       "    </tr>\n",
       "    <tr>\n",
       "      <th>109335</th>\n",
       "      <td>[0.0171849704251227, 0.0203962926914131, -0.03...</td>\n",
       "      <td>N</td>\n",
       "    </tr>\n",
       "    <tr>\n",
       "      <th>109336</th>\n",
       "      <td>[-0.114785796096422, -0.149206431397185, -0.21...</td>\n",
       "      <td>N</td>\n",
       "    </tr>\n",
       "    <tr>\n",
       "      <th>109337</th>\n",
       "      <td>[-0.0994044464748319, -0.165688216373462, -0.1...</td>\n",
       "      <td>N</td>\n",
       "    </tr>\n",
       "  </tbody>\n",
       "</table>\n",
       "<p>109338 rows × 2 columns</p>\n",
       "</div>"
      ],
      "text/plain": [
       "                                                     beat label\n",
       "0       [0.834882169297958, 0.834882169297958, 0.83488...     N\n",
       "1       [0.0839561792550694, 0.0063667072117798, -0.01...     N\n",
       "2       [0.0596260986687957, -0.0117930401591989, -0.0...     N\n",
       "3       [0.185550705508234, 0.129036836193696, 0.07666...     N\n",
       "4       [0.135853149148317, 0.0840519827417409, 0.0577...     N\n",
       "...                                                   ...   ...\n",
       "109333  [-0.175323057865841, -0.176776468285615, -0.20...     N\n",
       "109334  [-0.0865255525923312, -0.0855770093196608, -0....     N\n",
       "109335  [0.0171849704251227, 0.0203962926914131, -0.03...     N\n",
       "109336  [-0.114785796096422, -0.149206431397185, -0.21...     N\n",
       "109337  [-0.0994044464748319, -0.165688216373462, -0.1...     N\n",
       "\n",
       "[109338 rows x 2 columns]"
      ]
     },
     "execution_count": 7,
     "metadata": {},
     "output_type": "execute_result"
    }
   ],
   "source": [
    "df"
   ]
  },
  {
   "cell_type": "code",
   "execution_count": null,
   "id": "f77d9940-bb47-4c5d-9e9b-b5884ca4756b",
   "metadata": {},
   "outputs": [],
   "source": [
    "df.to_pickle(\"raw_data.pkl\")"
   ]
  },
  {
   "cell_type": "code",
   "execution_count": 19,
   "id": "06e8f974-6992-4ed2-852c-8e19f1e51c0b",
   "metadata": {},
   "outputs": [
    {
     "data": {
      "text/plain": [
       "[(('F',),\n",
       "                                                       beat label\n",
       "  17814   [0.8725762114276252, 0.8404610966207844, 0.843...     F\n",
       "  18368   [0.4659914694638414, 0.4605670089412668, 0.436...     F\n",
       "  19131   [-0.4025558786392974, -0.4019111807663347, -0....     F\n",
       "  19153   [-0.46576258394926096, -0.46471851846457446, -...     F\n",
       "  28430   [0.7103805329522126, 0.6918340991115728, 0.662...     F\n",
       "  ...                                                   ...   ...\n",
       "  104282  [0.46666701192518567, 0.4671543848901667, 0.46...     F\n",
       "  104594  [-0.3047009259325003, -0.3085243778049208, -0....     F\n",
       "  104974  [-0.6089082375947268, -0.6089082375947268, -0....     F\n",
       "  105125  [0.302951490040247, 0.3073785133907492, 0.3163...     F\n",
       "  106337  [-0.5701775608744999, -0.5725141602906333, -0....     F\n",
       "  \n",
       "  [802 rows x 2 columns]),\n",
       " (('N',),\n",
       "                                                       beat label\n",
       "  0       [-0.46163705152441814, -0.46163705152441814, -...     N\n",
       "  1       [-0.6335592019336502, -0.6531656933615433, -0....     N\n",
       "  2       [-0.5304711027689959, -0.5488943950751146, -0....     N\n",
       "  3       [-0.5699945741269453, -0.58589366817782, -0.60...     N\n",
       "  4       [-0.6298609321773689, -0.6438703728319293, -0....     N\n",
       "  ...                                                   ...   ...\n",
       "  109333  [-0.7915461833098272, -0.7920229594005214, -0....     N\n",
       "  109334  [-0.832524746599916, -0.8322203868332363, -0.8...     N\n",
       "  109335  [-0.7554482034611562, -0.7544118378769208, -0....     N\n",
       "  109336  [-0.766940978424538, -0.7787407829804947, -0.8...     N\n",
       "  109337  [-0.8459935480217127, -0.8680264771149694, -0....     N\n",
       "  \n",
       "  [90502 rows x 2 columns]),\n",
       " (('Q',),\n",
       "                                                      beat label\n",
       "  3168   [0.897221795817198, 0.8841357986674032, 0.8615...     Q\n",
       "  4133   [-0.5919976745766309, -0.5919976745766309, -0....     Q\n",
       "  4134   [-0.3909624105002364, -0.3914438760371477, -0....     Q\n",
       "  4135   [-0.41923444289950385, -0.4393735941412371, -0...     Q\n",
       "  4136   [-0.3274502122618428, -0.3361471499374704, -0....     Q\n",
       "  ...                                                  ...   ...\n",
       "  84162  [0.6739395132806196, 0.6735111813021564, 0.661...     Q\n",
       "  84163  [0.6825167591760426, 0.6825805071990667, 0.682...     Q\n",
       "  84164  [0.7474082810098381, 0.7393813580347444, 0.732...     Q\n",
       "  84165  [0.6968338963665222, 0.69172348377738, 0.67642...     Q\n",
       "  84166  [0.675497303791937, 0.670519722951171, 0.65874...     Q\n",
       "  \n",
       "  [8031 rows x 2 columns]),\n",
       " (('S',),\n",
       "                                                       beat label\n",
       "  6       [-0.5895393880668016, -0.6023090343031063, -0....     S\n",
       "  229     [-0.6350523808985249, -0.6569059967420106, -0....     S\n",
       "  257     [-0.5985256798430081, -0.5971314895129275, -0....     S\n",
       "  341     [-0.559163801663498, -0.5563980516743887, -0.5...     S\n",
       "  440     [-0.5179220778165023, -0.5067854060654299, -0....     S\n",
       "  ...                                                   ...   ...\n",
       "  107929  [-0.6701913781378535, -0.6718828870027368, -0....     S\n",
       "  107930  [-0.6747694897196816, -0.6742510768292567, -0....     S\n",
       "  107931  [-0.6433077993998001, -0.6415173429644476, -0....     S\n",
       "  107932  [-0.690053186338195, -0.6897707378298004, -0.6...     S\n",
       "  107933  [-0.7608779550347693, -0.7571034382226318, -0....     S\n",
       "  \n",
       "  [2777 rows x 2 columns]),\n",
       " (('V',),\n",
       "                                                       beat label\n",
       "  1905    [0.30091646235066816, 0.30091646235066816, 0.3...     V\n",
       "  4248    [0.5344507360739157, 0.5348748296104904, 0.535...     V\n",
       "  4834    [0.3888750904070377, 0.38490757138328147, 0.38...     V\n",
       "  5843    [0.6756551935822841, 0.6764457701761244, 0.676...     V\n",
       "  6031    [0.6715934848360257, 0.6608307837010894, 0.641...     V\n",
       "  ...                                                   ...   ...\n",
       "  106580  [0.3038924514075667, 0.2961600399499418, 0.286...     V\n",
       "  106584  [0.30224864353926306, 0.30405571335239334, 0.3...     V\n",
       "  108167  [-0.42087681314139624, -0.4305038002348758, -0...     V\n",
       "  108567  [-0.5275320568264035, -0.5360303816202878, -0....     V\n",
       "  109196  [-0.43391141163096214, -0.4454562326871372, -0...     V\n",
       "  \n",
       "  [7226 rows x 2 columns])]"
      ]
     },
     "execution_count": 19,
     "metadata": {},
     "output_type": "execute_result"
    }
   ],
   "source": [
    "# saving images\n",
    "\n",
    "df_list = [(_,d) for _, d in df.groupby(['label'])]\n",
    "\n",
    "df_list"
   ]
  },
  {
   "cell_type": "code",
   "execution_count": 20,
   "id": "2212b3f2",
   "metadata": {},
   "outputs": [],
   "source": [
    "# saving the separated dataframes\n",
    "for label,d in df_list:\n",
    "    d.to_pickle(\"data/\"+label[0]+\"_norm.pkl\")\n",
    "    "
   ]
  },
  {
   "cell_type": "code",
   "execution_count": 21,
   "id": "ec9c3a8d-9aa4-4c7f-a523-b56f118209df",
   "metadata": {},
   "outputs": [
    {
     "name": "stderr",
     "output_type": "stream",
     "text": [
      "100%|██████████| 802/802 [00:30<00:00, 26.43it/s]\n"
     ]
    }
   ],
   "source": [
    "dir = \"images/F/\"\n",
    "counter = 1\n",
    "for i in tqdm(df_list[0][1]['beat']):\n",
    "    fig, ax = plt.subplots()\n",
    "    ax.plot(i)\n",
    "    fig.patch.set_visible(False)\n",
    "    ax.axis('off')\n",
    "    ax.figure.savefig(dir+str(counter)+\".png\")\n",
    "    counter+=1\n",
    "    plt.close()"
   ]
  },
  {
   "cell_type": "code",
   "execution_count": 22,
   "id": "04573ae2-c910-4c3b-9ed4-a46148a631ae",
   "metadata": {},
   "outputs": [
    {
     "name": "stderr",
     "output_type": "stream",
     "text": [
      "100%|██████████| 90502/90502 [37:11<00:00, 40.55it/s]  \n"
     ]
    }
   ],
   "source": [
    "## ram intensive\n",
    "\n",
    "dir = \"images/N/\"\n",
    "counter = 1\n",
    "for i in tqdm(df_list[1][1]['beat']):\n",
    "    fig, ax = plt.subplots()\n",
    "    ax.plot(i)\n",
    "    fig.patch.set_visible(False)\n",
    "    ax.axis('off')\n",
    "    ax.figure.savefig(dir+str(counter)+\".png\")\n",
    "    counter+=1\n",
    "    plt.close()"
   ]
  },
  {
   "cell_type": "code",
   "execution_count": 23,
   "id": "9c23f6b8-d8ff-47e4-96c6-3f869c52f8f3",
   "metadata": {},
   "outputs": [
    {
     "name": "stderr",
     "output_type": "stream",
     "text": [
      "100%|██████████| 8031/8031 [04:35<00:00, 29.12it/s]\n"
     ]
    }
   ],
   "source": [
    "dir = \"images/Q/\"\n",
    "counter = 1\n",
    "for i in tqdm(df_list[2][1]['beat']):\n",
    "    fig, ax = plt.subplots()\n",
    "    ax.plot(i)\n",
    "    fig.patch.set_visible(False)\n",
    "    ax.axis('off')\n",
    "    ax.figure.savefig(dir+str(counter)+\".png\")\n",
    "    counter+=1\n",
    "    plt.close()"
   ]
  },
  {
   "cell_type": "code",
   "execution_count": 24,
   "id": "26e413c8-35b2-4209-8767-d143fe4d48b8",
   "metadata": {},
   "outputs": [
    {
     "name": "stderr",
     "output_type": "stream",
     "text": [
      "100%|██████████| 2777/2777 [01:47<00:00, 25.86it/s]\n"
     ]
    }
   ],
   "source": [
    "dir = \"images/S/\"\n",
    "counter = 1\n",
    "for i in tqdm(df_list[3][1]['beat']):\n",
    "    fig, ax = plt.subplots()\n",
    "    ax.plot(i)\n",
    "    fig.patch.set_visible(False)\n",
    "    ax.axis('off')\n",
    "    ax.figure.savefig(dir+str(counter)+\".png\")\n",
    "    counter+=1\n",
    "    plt.close()"
   ]
  },
  {
   "cell_type": "code",
   "execution_count": 25,
   "id": "4a54305d-2dd2-45f8-822e-294a87240b18",
   "metadata": {},
   "outputs": [
    {
     "name": "stderr",
     "output_type": "stream",
     "text": [
      "100%|██████████| 7226/7226 [03:18<00:00, 36.33it/s]\n"
     ]
    }
   ],
   "source": [
    "dir = \"images/V/\"\n",
    "counter = 1\n",
    "for i in tqdm(df_list[4][1]['beat']):\n",
    "    fig, ax = plt.subplots()\n",
    "    ax.plot(i)\n",
    "    fig.patch.set_visible(False)\n",
    "    ax.axis('off')\n",
    "    ax.figure.savefig(dir+str(counter)+\".png\")\n",
    "    counter+=1\n",
    "    plt.close()"
   ]
  },
  {
   "cell_type": "code",
   "execution_count": null,
   "id": "16ab0dc5-c76f-4397-9594-37a039526479",
   "metadata": {},
   "outputs": [],
   "source": []
  }
 ],
 "metadata": {
  "kernelspec": {
   "display_name": "tensorflow",
   "language": "python",
   "name": "python3"
  },
  "language_info": {
   "codemirror_mode": {
    "name": "ipython",
    "version": 3
   },
   "file_extension": ".py",
   "mimetype": "text/x-python",
   "name": "python",
   "nbconvert_exporter": "python",
   "pygments_lexer": "ipython3",
   "version": "3.10.13"
  }
 },
 "nbformat": 4,
 "nbformat_minor": 5
}
